{
 "cells": [
  {
   "cell_type": "code",
   "execution_count": 1,
   "metadata": {},
   "outputs": [],
   "source": [
    "#Importando bibliotecas\n",
    "import pandas as pd\n",
    "from sklearn.model_selection import train_test_split\n",
    "from sklearn.linear_model import LogisticRegression\n",
    "from sklearn.metrics import accuracy_score"
   ]
  },
  {
   "cell_type": "code",
   "execution_count": 27,
   "metadata": {},
   "outputs": [],
   "source": [
    "#Carregando dataset\n",
    "df = pd.read_csv('train.csv', encoding='ISO-8859-1')"
   ]
  },
  {
   "cell_type": "code",
   "execution_count": 28,
   "metadata": {
    "scrolled": true
   },
   "outputs": [],
   "source": [
    "#Criando coluna com as passageiras que são casadas, identificados através da coluna Name\n",
    "df['Mrs'] = df['Name'].str.contains('Mrs. ')"
   ]
  },
  {
   "cell_type": "code",
   "execution_count": 29,
   "metadata": {},
   "outputs": [],
   "source": [
    "#Criando coluna com os passageiros homens adultos, identificados através da coluna Name\n",
    "df['Mr'] = df['Name'].str.contains('Mr. ')"
   ]
  },
  {
   "cell_type": "code",
   "execution_count": 30,
   "metadata": {},
   "outputs": [],
   "source": [
    "#Criando coluna com os passageiros homens crianças, identificados através da coluna Name\n",
    "df['Master'] = df['Name'].str.contains('Master. ')"
   ]
  },
  {
   "cell_type": "code",
   "execution_count": 31,
   "metadata": {},
   "outputs": [],
   "source": [
    "#Criando coluna com as passageiras que são solteiras, identificados através da coluna Name\n",
    "df['Miss'] = df['Name'].str.contains('Miss. ')"
   ]
  },
  {
   "cell_type": "code",
   "execution_count": 32,
   "metadata": {},
   "outputs": [],
   "source": [
    "#Criando coluna com as passageiras identificados através da coluna Name\n",
    "df['Aux_Names'] = df['Name'].str.contains('Master. |Miss. |Mr. |Mrs. ')"
   ]
  },
  {
   "cell_type": "code",
   "execution_count": 33,
   "metadata": {},
   "outputs": [],
   "source": [
    "#Criando coluna com as passageiras do sexo Feminino + passageiros da coluna Master\n",
    "df['Female_Master'] = (df['Master'] == True) | (df['Sex'] == 'female' )"
   ]
  },
  {
   "cell_type": "code",
   "execution_count": 34,
   "metadata": {},
   "outputs": [],
   "source": [
    "#Função para tratar True e False\n",
    "def func_true_false(var):\n",
    "    if var == True:\n",
    "        return 1\n",
    "    if var == False:\n",
    "        return 0"
   ]
  },
  {
   "cell_type": "code",
   "execution_count": 35,
   "metadata": {},
   "outputs": [],
   "source": [
    "#Aplicando Função para tratamento do True e False\n",
    "df['Female_Master'] = df.Female_Master.apply(func_true_false)"
   ]
  },
  {
   "cell_type": "code",
   "execution_count": 36,
   "metadata": {},
   "outputs": [],
   "source": [
    "#Aplicando Função para tratamento do True e False\n",
    "df['Mrs'] = df.Mrs.apply(func_true_false)"
   ]
  },
  {
   "cell_type": "code",
   "execution_count": 37,
   "metadata": {},
   "outputs": [],
   "source": [
    "#Aplicando Função para tratamento do True e False\n",
    "df['Mr'] = df.Mr.apply(func_true_false)"
   ]
  },
  {
   "cell_type": "code",
   "execution_count": 38,
   "metadata": {},
   "outputs": [],
   "source": [
    "#Aplicando Função para tratamento do True e False\n",
    "df['Miss'] = df.Miss.apply(func_true_false)"
   ]
  },
  {
   "cell_type": "code",
   "execution_count": 39,
   "metadata": {},
   "outputs": [],
   "source": [
    "#Aplicando Função para tratamento do True e False\n",
    "df['Master'] = df.Master.apply(func_true_false)"
   ]
  },
  {
   "cell_type": "code",
   "execution_count": 40,
   "metadata": {},
   "outputs": [],
   "source": [
    "#Aplicando Função para tratamento do True e False\n",
    "df['Aux_Names'] = df.Aux_Names.apply(func_true_false)"
   ]
  },
  {
   "cell_type": "code",
   "execution_count": 41,
   "metadata": {},
   "outputs": [],
   "source": [
    "#Transformando a coluna Sex em dummies\n",
    "dummies_sex = pd.get_dummies(df['Sex'])"
   ]
  },
  {
   "cell_type": "code",
   "execution_count": 42,
   "metadata": {},
   "outputs": [],
   "source": [
    "#Inserindo dummies Sex no dataset\n",
    "df = pd.concat([df,dummies_sex],axis=1)"
   ]
  },
  {
   "cell_type": "code",
   "execution_count": 43,
   "metadata": {},
   "outputs": [],
   "source": [
    "#Transformando a coluna Pclass em dummies\n",
    "dummies_pclass = pd.get_dummies(df['Pclass'])"
   ]
  },
  {
   "cell_type": "code",
   "execution_count": 44,
   "metadata": {},
   "outputs": [],
   "source": [
    "#Inserindo dummies Pclass no dataset\n",
    "df = pd.concat([df,dummies_pclass],axis=1)"
   ]
  },
  {
   "cell_type": "code",
   "execution_count": 45,
   "metadata": {},
   "outputs": [],
   "source": [
    "#Aplicando a média na coluna Fare para os dados nulos\n",
    "df['Fare'] = df['Fare'].fillna(df['Fare'].mean())"
   ]
  },
  {
   "cell_type": "code",
   "execution_count": 46,
   "metadata": {},
   "outputs": [],
   "source": [
    "#Aplicando a média na coluna Age para os dados nulos apenas para o Master\n",
    "df.loc[df['Master'] == 1, 'Age'] = df[df.Master == 1].Age.fillna(df[df.Master == 1].Age.mean())"
   ]
  },
  {
   "cell_type": "code",
   "execution_count": 47,
   "metadata": {},
   "outputs": [],
   "source": [
    "#Aplicando a média na coluna Age para os dados nulos apenas para o Miss\n",
    "df.loc[df['Miss'] == 1, 'Age'] = df[df.Miss == 1].Age.fillna(df[df.Miss == 1].Age.mean())"
   ]
  },
  {
   "cell_type": "code",
   "execution_count": 48,
   "metadata": {},
   "outputs": [],
   "source": [
    "#Aplicando a média na coluna Age para os dados nulos apenas para o Mrs\n",
    "df.loc[df['Mrs'] == 1, 'Age'] = df[df.Mrs == 1].Age.fillna(df[df.Mrs == 1].Age.mean())"
   ]
  },
  {
   "cell_type": "code",
   "execution_count": 49,
   "metadata": {},
   "outputs": [],
   "source": [
    "#Aplicando a média na coluna Age para os dados nulos apenas para o Mr\n",
    "df.loc[df['Mr'] == 1, 'Age'] = df[df.Mr == 1].Age.fillna(df[df.Mr == 1].Age.mean())"
   ]
  },
  {
   "cell_type": "code",
   "execution_count": 50,
   "metadata": {},
   "outputs": [],
   "source": [
    "#Aplicando a média na coluna Age para os dados nulos restantes\n",
    "df['Age'] = df['Age'].fillna(df['Age'].mean())"
   ]
  },
  {
   "cell_type": "code",
   "execution_count": 51,
   "metadata": {},
   "outputs": [],
   "source": [
    "#Separando as variaveis X e y para a criação do modelo\n",
    "X = df[['Age','SibSp','Parch','Fare','Mrs','Master','Mr',1,3,'Female_Master']]\n",
    "y = df['Survived']"
   ]
  },
  {
   "cell_type": "code",
   "execution_count": 52,
   "metadata": {},
   "outputs": [],
   "source": [
    "#Aplicando o split no X e y\n",
    "X_train, X_test, y_train, y_test = train_test_split(X, y, test_size=0.30, random_state=4)"
   ]
  },
  {
   "cell_type": "code",
   "execution_count": 59,
   "metadata": {},
   "outputs": [
    {
     "data": {
      "text/plain": [
       "LogisticRegression(C=1.0, class_weight=None, dual=False, fit_intercept=True,\n",
       "          intercept_scaling=1, max_iter=100, multi_class='ovr', n_jobs=1,\n",
       "          penalty='l2', random_state=None, solver='liblinear', tol=0.0001,\n",
       "          verbose=0, warm_start=False)"
      ]
     },
     "execution_count": 59,
     "metadata": {},
     "output_type": "execute_result"
    }
   ],
   "source": [
    "#Criando e treinando o modelo de Regressão Logistica\n",
    "logreg = LogisticRegression()\n",
    "logreg.fit(X_train, y_train)"
   ]
  },
  {
   "cell_type": "code",
   "execution_count": 60,
   "metadata": {},
   "outputs": [],
   "source": [
    "#Efetuando a previsão dos valores da base test\n",
    "y_pred = logreg.predict(X_test)"
   ]
  },
  {
   "cell_type": "code",
   "execution_count": 61,
   "metadata": {
    "scrolled": true
   },
   "outputs": [
    {
     "name": "stdout",
     "output_type": "stream",
     "text": [
      "0.8731343283582089\n"
     ]
    }
   ],
   "source": [
    "#Obtendo a acuracia do modelo\n",
    "print(accuracy_score(y_test,y_pred))"
   ]
  },
  {
   "cell_type": "code",
   "execution_count": 259,
   "metadata": {},
   "outputs": [],
   "source": [
    "#Efetuando a previsão dos valores da base test.csv\n",
    "X_test = df[['Age','SibSp','Parch','Fare','Mrs','Master','Mr',1,3,'Female_Master']]\n",
    "y_pred = logreg.predict(X_test)"
   ]
  },
  {
   "cell_type": "code",
   "execution_count": 260,
   "metadata": {},
   "outputs": [],
   "source": [
    "#Incluindo a variavel Survived na base test\n",
    "df['Survived'] = y_pred"
   ]
  },
  {
   "cell_type": "code",
   "execution_count": 261,
   "metadata": {},
   "outputs": [],
   "source": [
    "#Exportando as variveis PassengerId e Survived para submeter no Kaggle\n",
    "df[['PassengerId','Survived']].to_csv('gender_submission.csv', index=False)"
   ]
  }
 ],
 "metadata": {
  "kernelspec": {
   "display_name": "Python 3",
   "language": "python",
   "name": "python3"
  },
  "language_info": {
   "codemirror_mode": {
    "name": "ipython",
    "version": 3
   },
   "file_extension": ".py",
   "mimetype": "text/x-python",
   "name": "python",
   "nbconvert_exporter": "python",
   "pygments_lexer": "ipython3",
   "version": "3.6.5"
  }
 },
 "nbformat": 4,
 "nbformat_minor": 2
}
